{
  "cells": [
    {
      "cell_type": "code",
      "source": [
        "import numpy as np\n",
        "import matplotlib.pyplot as plt\n",
        "import pandas as pd"
      ],
      "metadata": {
        "id": "JdDCm-vw3oZr"
      },
      "execution_count": 1,
      "outputs": []
    },
    {
      "cell_type": "code",
      "source": [
        "dataset = pd.read_csv('merged_churn_dataset.csv')\n",
        "\n",
        "dataset.info()\n",
        "dataset.head()"
      ],
      "metadata": {
        "id": "UCSHPYD8328h",
        "outputId": "498bfc16-f1fb-412f-a8eb-9251adc990a5",
        "colab": {
          "base_uri": "https://localhost:8080/",
          "height": 763
        }
      },
      "execution_count": 2,
      "outputs": [
        {
          "output_type": "stream",
          "name": "stdout",
          "text": [
            "<class 'pandas.core.frame.DataFrame'>\n",
            "RangeIndex: 110000 entries, 0 to 109999\n",
            "Data columns (total 21 columns):\n",
            " #   Column                      Non-Null Count   Dtype  \n",
            "---  ------                      --------------   -----  \n",
            " 0   CustomerID                  110000 non-null  int64  \n",
            " 1   CreditScore                 110000 non-null  float64\n",
            " 2   Balance                     110000 non-null  float64\n",
            " 3   NumOfProducts               110000 non-null  float64\n",
            " 4   HasCrCard                   110000 non-null  float64\n",
            " 5   IsActiveMember              110000 non-null  float64\n",
            " 6   EstimatedSalary             110000 non-null  float64\n",
            " 7   Exited                      110000 non-null  float64\n",
            " 8   GameGenre                   110000 non-null  object \n",
            " 9   PlayTimeHours               110000 non-null  float64\n",
            " 10  InGamePurchases             110000 non-null  float64\n",
            " 11  GameDifficulty              110000 non-null  object \n",
            " 12  SessionsPerWeek             110000 non-null  float64\n",
            " 13  AvgSessionDurationMinutes   110000 non-null  float64\n",
            " 14  PlayerLevel                 110000 non-null  float64\n",
            " 15  AchievementsUnlocked        110000 non-null  float64\n",
            " 16  EngagementLevel             110000 non-null  object \n",
            " 17  Subscription_Length_Months  110000 non-null  float64\n",
            " 18  Monthly_Bill                110000 non-null  float64\n",
            " 19  Total_Usage_GB              110000 non-null  float64\n",
            " 20  Churn                       110000 non-null  float64\n",
            "dtypes: float64(17), int64(1), object(3)\n",
            "memory usage: 17.6+ MB\n"
          ]
        },
        {
          "output_type": "execute_result",
          "data": {
            "text/plain": [
              "   CustomerID  CreditScore    Balance  NumOfProducts  HasCrCard  \\\n",
              "0    15634602        619.0       0.00            1.0        1.0   \n",
              "1    15647311        608.0   83807.86            1.0        0.0   \n",
              "2    15619304        502.0  159660.80            3.0        1.0   \n",
              "3    15701354        699.0       0.00            2.0        0.0   \n",
              "4    15737888        850.0  125510.82            1.0        1.0   \n",
              "\n",
              "   IsActiveMember  EstimatedSalary  Exited GameGenre  PlayTimeHours  ...  \\\n",
              "0             1.0        101348.88     1.0    Sports      12.024365  ...   \n",
              "1             1.0        112542.58     0.0    Sports      12.024365  ...   \n",
              "2             0.0        113931.57     1.0    Sports      12.024365  ...   \n",
              "3             0.0         93826.63     0.0    Sports      12.024365  ...   \n",
              "4             1.0         79084.10     0.0    Sports      12.024365  ...   \n",
              "\n",
              "   GameDifficulty SessionsPerWeek  AvgSessionDurationMinutes  PlayerLevel  \\\n",
              "0            Easy        9.471774                  94.792252    49.655568   \n",
              "1            Easy        9.471774                  94.792252    49.655568   \n",
              "2            Easy        9.471774                  94.792252    49.655568   \n",
              "3            Easy        9.471774                  94.792252    49.655568   \n",
              "4            Easy        9.471774                  94.792252    49.655568   \n",
              "\n",
              "   AchievementsUnlocked  EngagementLevel Subscription_Length_Months  \\\n",
              "0             24.526477           Medium                    12.4901   \n",
              "1             24.526477           Medium                    12.4901   \n",
              "2             24.526477           Medium                    12.4901   \n",
              "3             24.526477           Medium                    12.4901   \n",
              "4             24.526477           Medium                    12.4901   \n",
              "\n",
              "   Monthly_Bill  Total_Usage_GB    Churn  \n",
              "0     65.053197       274.39365  0.49779  \n",
              "1     65.053197       274.39365  0.49779  \n",
              "2     65.053197       274.39365  0.49779  \n",
              "3     65.053197       274.39365  0.49779  \n",
              "4     65.053197       274.39365  0.49779  \n",
              "\n",
              "[5 rows x 21 columns]"
            ],
            "text/html": [
              "\n",
              "  <div id=\"df-743a0ec0-c3a4-46fb-84bf-14b0f78480d3\" class=\"colab-df-container\">\n",
              "    <div>\n",
              "<style scoped>\n",
              "    .dataframe tbody tr th:only-of-type {\n",
              "        vertical-align: middle;\n",
              "    }\n",
              "\n",
              "    .dataframe tbody tr th {\n",
              "        vertical-align: top;\n",
              "    }\n",
              "\n",
              "    .dataframe thead th {\n",
              "        text-align: right;\n",
              "    }\n",
              "</style>\n",
              "<table border=\"1\" class=\"dataframe\">\n",
              "  <thead>\n",
              "    <tr style=\"text-align: right;\">\n",
              "      <th></th>\n",
              "      <th>CustomerID</th>\n",
              "      <th>CreditScore</th>\n",
              "      <th>Balance</th>\n",
              "      <th>NumOfProducts</th>\n",
              "      <th>HasCrCard</th>\n",
              "      <th>IsActiveMember</th>\n",
              "      <th>EstimatedSalary</th>\n",
              "      <th>Exited</th>\n",
              "      <th>GameGenre</th>\n",
              "      <th>PlayTimeHours</th>\n",
              "      <th>...</th>\n",
              "      <th>GameDifficulty</th>\n",
              "      <th>SessionsPerWeek</th>\n",
              "      <th>AvgSessionDurationMinutes</th>\n",
              "      <th>PlayerLevel</th>\n",
              "      <th>AchievementsUnlocked</th>\n",
              "      <th>EngagementLevel</th>\n",
              "      <th>Subscription_Length_Months</th>\n",
              "      <th>Monthly_Bill</th>\n",
              "      <th>Total_Usage_GB</th>\n",
              "      <th>Churn</th>\n",
              "    </tr>\n",
              "  </thead>\n",
              "  <tbody>\n",
              "    <tr>\n",
              "      <th>0</th>\n",
              "      <td>15634602</td>\n",
              "      <td>619.0</td>\n",
              "      <td>0.00</td>\n",
              "      <td>1.0</td>\n",
              "      <td>1.0</td>\n",
              "      <td>1.0</td>\n",
              "      <td>101348.88</td>\n",
              "      <td>1.0</td>\n",
              "      <td>Sports</td>\n",
              "      <td>12.024365</td>\n",
              "      <td>...</td>\n",
              "      <td>Easy</td>\n",
              "      <td>9.471774</td>\n",
              "      <td>94.792252</td>\n",
              "      <td>49.655568</td>\n",
              "      <td>24.526477</td>\n",
              "      <td>Medium</td>\n",
              "      <td>12.4901</td>\n",
              "      <td>65.053197</td>\n",
              "      <td>274.39365</td>\n",
              "      <td>0.49779</td>\n",
              "    </tr>\n",
              "    <tr>\n",
              "      <th>1</th>\n",
              "      <td>15647311</td>\n",
              "      <td>608.0</td>\n",
              "      <td>83807.86</td>\n",
              "      <td>1.0</td>\n",
              "      <td>0.0</td>\n",
              "      <td>1.0</td>\n",
              "      <td>112542.58</td>\n",
              "      <td>0.0</td>\n",
              "      <td>Sports</td>\n",
              "      <td>12.024365</td>\n",
              "      <td>...</td>\n",
              "      <td>Easy</td>\n",
              "      <td>9.471774</td>\n",
              "      <td>94.792252</td>\n",
              "      <td>49.655568</td>\n",
              "      <td>24.526477</td>\n",
              "      <td>Medium</td>\n",
              "      <td>12.4901</td>\n",
              "      <td>65.053197</td>\n",
              "      <td>274.39365</td>\n",
              "      <td>0.49779</td>\n",
              "    </tr>\n",
              "    <tr>\n",
              "      <th>2</th>\n",
              "      <td>15619304</td>\n",
              "      <td>502.0</td>\n",
              "      <td>159660.80</td>\n",
              "      <td>3.0</td>\n",
              "      <td>1.0</td>\n",
              "      <td>0.0</td>\n",
              "      <td>113931.57</td>\n",
              "      <td>1.0</td>\n",
              "      <td>Sports</td>\n",
              "      <td>12.024365</td>\n",
              "      <td>...</td>\n",
              "      <td>Easy</td>\n",
              "      <td>9.471774</td>\n",
              "      <td>94.792252</td>\n",
              "      <td>49.655568</td>\n",
              "      <td>24.526477</td>\n",
              "      <td>Medium</td>\n",
              "      <td>12.4901</td>\n",
              "      <td>65.053197</td>\n",
              "      <td>274.39365</td>\n",
              "      <td>0.49779</td>\n",
              "    </tr>\n",
              "    <tr>\n",
              "      <th>3</th>\n",
              "      <td>15701354</td>\n",
              "      <td>699.0</td>\n",
              "      <td>0.00</td>\n",
              "      <td>2.0</td>\n",
              "      <td>0.0</td>\n",
              "      <td>0.0</td>\n",
              "      <td>93826.63</td>\n",
              "      <td>0.0</td>\n",
              "      <td>Sports</td>\n",
              "      <td>12.024365</td>\n",
              "      <td>...</td>\n",
              "      <td>Easy</td>\n",
              "      <td>9.471774</td>\n",
              "      <td>94.792252</td>\n",
              "      <td>49.655568</td>\n",
              "      <td>24.526477</td>\n",
              "      <td>Medium</td>\n",
              "      <td>12.4901</td>\n",
              "      <td>65.053197</td>\n",
              "      <td>274.39365</td>\n",
              "      <td>0.49779</td>\n",
              "    </tr>\n",
              "    <tr>\n",
              "      <th>4</th>\n",
              "      <td>15737888</td>\n",
              "      <td>850.0</td>\n",
              "      <td>125510.82</td>\n",
              "      <td>1.0</td>\n",
              "      <td>1.0</td>\n",
              "      <td>1.0</td>\n",
              "      <td>79084.10</td>\n",
              "      <td>0.0</td>\n",
              "      <td>Sports</td>\n",
              "      <td>12.024365</td>\n",
              "      <td>...</td>\n",
              "      <td>Easy</td>\n",
              "      <td>9.471774</td>\n",
              "      <td>94.792252</td>\n",
              "      <td>49.655568</td>\n",
              "      <td>24.526477</td>\n",
              "      <td>Medium</td>\n",
              "      <td>12.4901</td>\n",
              "      <td>65.053197</td>\n",
              "      <td>274.39365</td>\n",
              "      <td>0.49779</td>\n",
              "    </tr>\n",
              "  </tbody>\n",
              "</table>\n",
              "<p>5 rows × 21 columns</p>\n",
              "</div>\n",
              "    <div class=\"colab-df-buttons\">\n",
              "\n",
              "  <div class=\"colab-df-container\">\n",
              "    <button class=\"colab-df-convert\" onclick=\"convertToInteractive('df-743a0ec0-c3a4-46fb-84bf-14b0f78480d3')\"\n",
              "            title=\"Convert this dataframe to an interactive table.\"\n",
              "            style=\"display:none;\">\n",
              "\n",
              "  <svg xmlns=\"http://www.w3.org/2000/svg\" height=\"24px\" viewBox=\"0 -960 960 960\">\n",
              "    <path d=\"M120-120v-720h720v720H120Zm60-500h600v-160H180v160Zm220 220h160v-160H400v160Zm0 220h160v-160H400v160ZM180-400h160v-160H180v160Zm440 0h160v-160H620v160ZM180-180h160v-160H180v160Zm440 0h160v-160H620v160Z\"/>\n",
              "  </svg>\n",
              "    </button>\n",
              "\n",
              "  <style>\n",
              "    .colab-df-container {\n",
              "      display:flex;\n",
              "      gap: 12px;\n",
              "    }\n",
              "\n",
              "    .colab-df-convert {\n",
              "      background-color: #E8F0FE;\n",
              "      border: none;\n",
              "      border-radius: 50%;\n",
              "      cursor: pointer;\n",
              "      display: none;\n",
              "      fill: #1967D2;\n",
              "      height: 32px;\n",
              "      padding: 0 0 0 0;\n",
              "      width: 32px;\n",
              "    }\n",
              "\n",
              "    .colab-df-convert:hover {\n",
              "      background-color: #E2EBFA;\n",
              "      box-shadow: 0px 1px 2px rgba(60, 64, 67, 0.3), 0px 1px 3px 1px rgba(60, 64, 67, 0.15);\n",
              "      fill: #174EA6;\n",
              "    }\n",
              "\n",
              "    .colab-df-buttons div {\n",
              "      margin-bottom: 4px;\n",
              "    }\n",
              "\n",
              "    [theme=dark] .colab-df-convert {\n",
              "      background-color: #3B4455;\n",
              "      fill: #D2E3FC;\n",
              "    }\n",
              "\n",
              "    [theme=dark] .colab-df-convert:hover {\n",
              "      background-color: #434B5C;\n",
              "      box-shadow: 0px 1px 3px 1px rgba(0, 0, 0, 0.15);\n",
              "      filter: drop-shadow(0px 1px 2px rgba(0, 0, 0, 0.3));\n",
              "      fill: #FFFFFF;\n",
              "    }\n",
              "  </style>\n",
              "\n",
              "    <script>\n",
              "      const buttonEl =\n",
              "        document.querySelector('#df-743a0ec0-c3a4-46fb-84bf-14b0f78480d3 button.colab-df-convert');\n",
              "      buttonEl.style.display =\n",
              "        google.colab.kernel.accessAllowed ? 'block' : 'none';\n",
              "\n",
              "      async function convertToInteractive(key) {\n",
              "        const element = document.querySelector('#df-743a0ec0-c3a4-46fb-84bf-14b0f78480d3');\n",
              "        const dataTable =\n",
              "          await google.colab.kernel.invokeFunction('convertToInteractive',\n",
              "                                                    [key], {});\n",
              "        if (!dataTable) return;\n",
              "\n",
              "        const docLinkHtml = 'Like what you see? Visit the ' +\n",
              "          '<a target=\"_blank\" href=https://colab.research.google.com/notebooks/data_table.ipynb>data table notebook</a>'\n",
              "          + ' to learn more about interactive tables.';\n",
              "        element.innerHTML = '';\n",
              "        dataTable['output_type'] = 'display_data';\n",
              "        await google.colab.output.renderOutput(dataTable, element);\n",
              "        const docLink = document.createElement('div');\n",
              "        docLink.innerHTML = docLinkHtml;\n",
              "        element.appendChild(docLink);\n",
              "      }\n",
              "    </script>\n",
              "  </div>\n",
              "\n",
              "\n",
              "<div id=\"df-4bd41bc6-8bf6-4ae1-b338-936cfef39e85\">\n",
              "  <button class=\"colab-df-quickchart\" onclick=\"quickchart('df-4bd41bc6-8bf6-4ae1-b338-936cfef39e85')\"\n",
              "            title=\"Suggest charts\"\n",
              "            style=\"display:none;\">\n",
              "\n",
              "<svg xmlns=\"http://www.w3.org/2000/svg\" height=\"24px\"viewBox=\"0 0 24 24\"\n",
              "     width=\"24px\">\n",
              "    <g>\n",
              "        <path d=\"M19 3H5c-1.1 0-2 .9-2 2v14c0 1.1.9 2 2 2h14c1.1 0 2-.9 2-2V5c0-1.1-.9-2-2-2zM9 17H7v-7h2v7zm4 0h-2V7h2v10zm4 0h-2v-4h2v4z\"/>\n",
              "    </g>\n",
              "</svg>\n",
              "  </button>\n",
              "\n",
              "<style>\n",
              "  .colab-df-quickchart {\n",
              "      --bg-color: #E8F0FE;\n",
              "      --fill-color: #1967D2;\n",
              "      --hover-bg-color: #E2EBFA;\n",
              "      --hover-fill-color: #174EA6;\n",
              "      --disabled-fill-color: #AAA;\n",
              "      --disabled-bg-color: #DDD;\n",
              "  }\n",
              "\n",
              "  [theme=dark] .colab-df-quickchart {\n",
              "      --bg-color: #3B4455;\n",
              "      --fill-color: #D2E3FC;\n",
              "      --hover-bg-color: #434B5C;\n",
              "      --hover-fill-color: #FFFFFF;\n",
              "      --disabled-bg-color: #3B4455;\n",
              "      --disabled-fill-color: #666;\n",
              "  }\n",
              "\n",
              "  .colab-df-quickchart {\n",
              "    background-color: var(--bg-color);\n",
              "    border: none;\n",
              "    border-radius: 50%;\n",
              "    cursor: pointer;\n",
              "    display: none;\n",
              "    fill: var(--fill-color);\n",
              "    height: 32px;\n",
              "    padding: 0;\n",
              "    width: 32px;\n",
              "  }\n",
              "\n",
              "  .colab-df-quickchart:hover {\n",
              "    background-color: var(--hover-bg-color);\n",
              "    box-shadow: 0 1px 2px rgba(60, 64, 67, 0.3), 0 1px 3px 1px rgba(60, 64, 67, 0.15);\n",
              "    fill: var(--button-hover-fill-color);\n",
              "  }\n",
              "\n",
              "  .colab-df-quickchart-complete:disabled,\n",
              "  .colab-df-quickchart-complete:disabled:hover {\n",
              "    background-color: var(--disabled-bg-color);\n",
              "    fill: var(--disabled-fill-color);\n",
              "    box-shadow: none;\n",
              "  }\n",
              "\n",
              "  .colab-df-spinner {\n",
              "    border: 2px solid var(--fill-color);\n",
              "    border-color: transparent;\n",
              "    border-bottom-color: var(--fill-color);\n",
              "    animation:\n",
              "      spin 1s steps(1) infinite;\n",
              "  }\n",
              "\n",
              "  @keyframes spin {\n",
              "    0% {\n",
              "      border-color: transparent;\n",
              "      border-bottom-color: var(--fill-color);\n",
              "      border-left-color: var(--fill-color);\n",
              "    }\n",
              "    20% {\n",
              "      border-color: transparent;\n",
              "      border-left-color: var(--fill-color);\n",
              "      border-top-color: var(--fill-color);\n",
              "    }\n",
              "    30% {\n",
              "      border-color: transparent;\n",
              "      border-left-color: var(--fill-color);\n",
              "      border-top-color: var(--fill-color);\n",
              "      border-right-color: var(--fill-color);\n",
              "    }\n",
              "    40% {\n",
              "      border-color: transparent;\n",
              "      border-right-color: var(--fill-color);\n",
              "      border-top-color: var(--fill-color);\n",
              "    }\n",
              "    60% {\n",
              "      border-color: transparent;\n",
              "      border-right-color: var(--fill-color);\n",
              "    }\n",
              "    80% {\n",
              "      border-color: transparent;\n",
              "      border-right-color: var(--fill-color);\n",
              "      border-bottom-color: var(--fill-color);\n",
              "    }\n",
              "    90% {\n",
              "      border-color: transparent;\n",
              "      border-bottom-color: var(--fill-color);\n",
              "    }\n",
              "  }\n",
              "</style>\n",
              "\n",
              "  <script>\n",
              "    async function quickchart(key) {\n",
              "      const quickchartButtonEl =\n",
              "        document.querySelector('#' + key + ' button');\n",
              "      quickchartButtonEl.disabled = true;  // To prevent multiple clicks.\n",
              "      quickchartButtonEl.classList.add('colab-df-spinner');\n",
              "      try {\n",
              "        const charts = await google.colab.kernel.invokeFunction(\n",
              "            'suggestCharts', [key], {});\n",
              "      } catch (error) {\n",
              "        console.error('Error during call to suggestCharts:', error);\n",
              "      }\n",
              "      quickchartButtonEl.classList.remove('colab-df-spinner');\n",
              "      quickchartButtonEl.classList.add('colab-df-quickchart-complete');\n",
              "    }\n",
              "    (() => {\n",
              "      let quickchartButtonEl =\n",
              "        document.querySelector('#df-4bd41bc6-8bf6-4ae1-b338-936cfef39e85 button');\n",
              "      quickchartButtonEl.style.display =\n",
              "        google.colab.kernel.accessAllowed ? 'block' : 'none';\n",
              "    })();\n",
              "  </script>\n",
              "</div>\n",
              "\n",
              "    </div>\n",
              "  </div>\n"
            ],
            "application/vnd.google.colaboratory.intrinsic+json": {
              "type": "dataframe",
              "variable_name": "dataset"
            }
          },
          "metadata": {},
          "execution_count": 2
        }
      ]
    },
    {
      "cell_type": "markdown",
      "source": [
        "# Handle Missing Values"
      ],
      "metadata": {
        "id": "pL6SlM8p4Osp"
      }
    },
    {
      "cell_type": "code",
      "source": [
        "print(dataset.isnull().sum())"
      ],
      "metadata": {
        "id": "B5XE9Atl4M9q",
        "outputId": "77f3497d-a26e-484b-9725-a24f3ef2895c",
        "colab": {
          "base_uri": "https://localhost:8080/"
        }
      },
      "execution_count": 3,
      "outputs": [
        {
          "output_type": "stream",
          "name": "stdout",
          "text": [
            "CustomerID                    0\n",
            "CreditScore                   0\n",
            "Balance                       0\n",
            "NumOfProducts                 0\n",
            "HasCrCard                     0\n",
            "IsActiveMember                0\n",
            "EstimatedSalary               0\n",
            "Exited                        0\n",
            "GameGenre                     0\n",
            "PlayTimeHours                 0\n",
            "InGamePurchases               0\n",
            "GameDifficulty                0\n",
            "SessionsPerWeek               0\n",
            "AvgSessionDurationMinutes     0\n",
            "PlayerLevel                   0\n",
            "AchievementsUnlocked          0\n",
            "EngagementLevel               0\n",
            "Subscription_Length_Months    0\n",
            "Monthly_Bill                  0\n",
            "Total_Usage_GB                0\n",
            "Churn                         0\n",
            "dtype: int64\n"
          ]
        }
      ]
    },
    {
      "cell_type": "code",
      "source": [
        "dataset = dataset.dropna(axis=1, thresh=int(0.6 * len(dataset)))"
      ],
      "metadata": {
        "id": "EGmzMeKk4Zy1"
      },
      "execution_count": 4,
      "outputs": []
    },
    {
      "cell_type": "code",
      "source": [
        "dataset.fillna(dataset.select_dtypes(include=np.number).mean(), inplace=True)\n",
        "dataset.fillna(dataset.mode().iloc[0], inplace=True)"
      ],
      "metadata": {
        "id": "WZ3qfPDF4nrY"
      },
      "execution_count": 5,
      "outputs": []
    },
    {
      "cell_type": "markdown",
      "source": [
        "# Remove Duplicates"
      ],
      "metadata": {
        "id": "bKDC5zbt5p-O"
      }
    },
    {
      "cell_type": "code",
      "source": [
        "dataset = dataset.drop_duplicates()\n",
        "print(\"Duplicates removed: \", dataset.duplicated().sum())"
      ],
      "metadata": {
        "id": "c5O-QpCz5VOd",
        "outputId": "129becf2-5edf-4a3d-89fc-74686f9714d6",
        "colab": {
          "base_uri": "https://localhost:8080/"
        }
      },
      "execution_count": 6,
      "outputs": [
        {
          "output_type": "stream",
          "name": "stdout",
          "text": [
            "Duplicates removed:  0\n"
          ]
        }
      ]
    },
    {
      "cell_type": "markdown",
      "source": [
        "# Fix Data Types"
      ],
      "metadata": {
        "id": "tC3RYHHm5urV"
      }
    },
    {
      "cell_type": "code",
      "source": [
        "if 'date_column' in dataset.columns:\n",
        "    dataset['date_column'] = pd.to_datetime(dataset['date_column'], errors='coerce')\n",
        "else:\n",
        "    print(\"Warning: 'date_column' not found in the DataFrame.\")"
      ],
      "metadata": {
        "id": "G_UAR78-5nAI",
        "outputId": "7b3f7f43-f75d-4853-e768-c68e55465d52",
        "colab": {
          "base_uri": "https://localhost:8080/"
        }
      },
      "execution_count": 7,
      "outputs": [
        {
          "output_type": "stream",
          "name": "stdout",
          "text": [
            "Warning: 'date_column' not found in the DataFrame.\n"
          ]
        }
      ]
    },
    {
      "cell_type": "code",
      "source": [
        "print(dataset.dtypes)"
      ],
      "metadata": {
        "id": "ZoyCEzXp6e7T",
        "outputId": "fc58cbc1-342e-4a34-8a71-399e94bd56d1",
        "colab": {
          "base_uri": "https://localhost:8080/"
        }
      },
      "execution_count": 8,
      "outputs": [
        {
          "output_type": "stream",
          "name": "stdout",
          "text": [
            "CustomerID                      int64\n",
            "CreditScore                   float64\n",
            "Balance                       float64\n",
            "NumOfProducts                 float64\n",
            "HasCrCard                     float64\n",
            "IsActiveMember                float64\n",
            "EstimatedSalary               float64\n",
            "Exited                        float64\n",
            "GameGenre                      object\n",
            "PlayTimeHours                 float64\n",
            "InGamePurchases               float64\n",
            "GameDifficulty                 object\n",
            "SessionsPerWeek               float64\n",
            "AvgSessionDurationMinutes     float64\n",
            "PlayerLevel                   float64\n",
            "AchievementsUnlocked          float64\n",
            "EngagementLevel                object\n",
            "Subscription_Length_Months    float64\n",
            "Monthly_Bill                  float64\n",
            "Total_Usage_GB                float64\n",
            "Churn                         float64\n",
            "dtype: object\n"
          ]
        }
      ]
    },
    {
      "cell_type": "code",
      "source": [
        "object_columns = dataset.select_dtypes(include=['object']).columns\n",
        "print(\"Object Columns:\", object_columns)"
      ],
      "metadata": {
        "id": "_u5vEOD07MGd",
        "outputId": "b616fdc3-92b7-45e4-8c12-c0294aca170b",
        "colab": {
          "base_uri": "https://localhost:8080/"
        }
      },
      "execution_count": 9,
      "outputs": [
        {
          "output_type": "stream",
          "name": "stdout",
          "text": [
            "Object Columns: Index(['GameGenre', 'GameDifficulty', 'EngagementLevel'], dtype='object')\n"
          ]
        }
      ]
    },
    {
      "cell_type": "code",
      "source": [
        "for col in object_columns:\n",
        "    print(f\"{col}: {dataset[col].nunique()} unique values\")"
      ],
      "metadata": {
        "id": "k5LX9OmA7Tb2",
        "outputId": "e366264c-16fa-49a7-9e9b-441d4e3b296a",
        "colab": {
          "base_uri": "https://localhost:8080/"
        }
      },
      "execution_count": 10,
      "outputs": [
        {
          "output_type": "stream",
          "name": "stdout",
          "text": [
            "GameGenre: 5 unique values\n",
            "GameDifficulty: 3 unique values\n",
            "EngagementLevel: 3 unique values\n"
          ]
        }
      ]
    },
    {
      "cell_type": "code",
      "source": [
        "dataset[object_columns] = dataset[object_columns].astype('category')\n",
        "\n",
        "print(dataset.dtypes)"
      ],
      "metadata": {
        "id": "uS0S80Ph8Qb2",
        "outputId": "731a6189-9cf3-48aa-87c2-d7329369a758",
        "colab": {
          "base_uri": "https://localhost:8080/"
        }
      },
      "execution_count": 11,
      "outputs": [
        {
          "output_type": "stream",
          "name": "stdout",
          "text": [
            "CustomerID                       int64\n",
            "CreditScore                    float64\n",
            "Balance                        float64\n",
            "NumOfProducts                  float64\n",
            "HasCrCard                      float64\n",
            "IsActiveMember                 float64\n",
            "EstimatedSalary                float64\n",
            "Exited                         float64\n",
            "GameGenre                     category\n",
            "PlayTimeHours                  float64\n",
            "InGamePurchases                float64\n",
            "GameDifficulty                category\n",
            "SessionsPerWeek                float64\n",
            "AvgSessionDurationMinutes      float64\n",
            "PlayerLevel                    float64\n",
            "AchievementsUnlocked           float64\n",
            "EngagementLevel               category\n",
            "Subscription_Length_Months     float64\n",
            "Monthly_Bill                   float64\n",
            "Total_Usage_GB                 float64\n",
            "Churn                          float64\n",
            "dtype: object\n"
          ]
        }
      ]
    },
    {
      "cell_type": "markdown",
      "source": [
        "# Feature Engineering"
      ],
      "metadata": {
        "id": "eS4dUWbp9EtU"
      }
    },
    {
      "cell_type": "markdown",
      "source": [
        "**Time-Based**"
      ],
      "metadata": {
        "id": "kXgm_xBL9Ji-"
      }
    },
    {
      "cell_type": "code",
      "source": [
        "dataset['tenure_years'] = dataset['Subscription_Length_Months'] / 12"
      ],
      "metadata": {
        "id": "ICEZy0pU9MbJ"
      },
      "execution_count": 12,
      "outputs": []
    },
    {
      "cell_type": "markdown",
      "source": [
        "**Behavioral Features**"
      ],
      "metadata": {
        "id": "LK8dJyI-92VJ"
      }
    },
    {
      "cell_type": "markdown",
      "source": [
        "Gaming Intensity"
      ],
      "metadata": {
        "id": "DmuNS-ci_o_H"
      }
    },
    {
      "cell_type": "code",
      "source": [
        "dataset['playtime_per_session'] = dataset['PlayTimeHours'] / (dataset['SessionsPerWeek'] * 4 + 1)"
      ],
      "metadata": {
        "id": "tSKB7_xd907H"
      },
      "execution_count": 13,
      "outputs": []
    },
    {
      "cell_type": "markdown",
      "source": [
        "In-Game Spending"
      ],
      "metadata": {
        "id": "2-YVaaIP-JmU"
      }
    },
    {
      "cell_type": "code",
      "source": [
        "dataset['spending_per_hour'] = dataset['InGamePurchases'] / (dataset['PlayTimeHours'] + 1)"
      ],
      "metadata": {
        "id": "xcnQOdOM-P35"
      },
      "execution_count": 14,
      "outputs": []
    },
    {
      "cell_type": "markdown",
      "source": [
        "Avg Monthly Usage"
      ],
      "metadata": {
        "id": "hojSbMar-Yka"
      }
    },
    {
      "cell_type": "code",
      "source": [
        "dataset['avg_usage_per_month'] = dataset['Total_Usage_GB'] / dataset['Subscription_Length_Months']"
      ],
      "metadata": {
        "id": "LAdXs_ac-bYe"
      },
      "execution_count": 15,
      "outputs": []
    },
    {
      "cell_type": "markdown",
      "source": [
        "Avg Monthly Bill"
      ],
      "metadata": {
        "id": "a73Ce5wb-1f8"
      }
    },
    {
      "cell_type": "code",
      "source": [
        "dataset['avg_bill_per_product'] = dataset['Monthly_Bill'] / (dataset['NumOfProducts'] + 1)"
      ],
      "metadata": {
        "id": "5-pBAOdN-zUu"
      },
      "execution_count": 16,
      "outputs": []
    },
    {
      "cell_type": "markdown",
      "source": [
        "**Engagement & Retention Features**"
      ],
      "metadata": {
        "id": "75VmhaYA_Tn2"
      }
    },
    {
      "cell_type": "markdown",
      "source": [
        "Gaming Engagement Score"
      ],
      "metadata": {
        "id": "MF0ncA1T_v2o"
      }
    },
    {
      "cell_type": "code",
      "source": [
        "dataset['gaming_engagement_score'] = dataset['PlayTimeHours'] * dataset['AchievementsUnlocked']"
      ],
      "metadata": {
        "id": "-QOG7MJ6_9pw"
      },
      "execution_count": 17,
      "outputs": []
    },
    {
      "cell_type": "markdown",
      "source": [
        "Avg Session Length"
      ],
      "metadata": {
        "id": "UmM4MPxBAFFm"
      }
    },
    {
      "cell_type": "code",
      "source": [
        "dataset['avg_session_length_per_week'] = dataset['AvgSessionDurationMinutes'] * dataset['SessionsPerWeek']"
      ],
      "metadata": {
        "id": "ZNfnT7nlAG1o"
      },
      "execution_count": 18,
      "outputs": []
    },
    {
      "cell_type": "markdown",
      "source": [
        "Activity Score"
      ],
      "metadata": {
        "id": "p0ZsirLSAOiz"
      }
    },
    {
      "cell_type": "code",
      "source": [
        "dataset['activity_score'] = dataset['SessionsPerWeek'] * dataset['IsActiveMember']"
      ],
      "metadata": {
        "id": "h9tslAVtAPTM"
      },
      "execution_count": 19,
      "outputs": []
    },
    {
      "cell_type": "markdown",
      "source": [
        "**Interaction Featurest**"
      ],
      "metadata": {
        "id": "Lp2glhy9AVXn"
      }
    },
    {
      "cell_type": "markdown",
      "source": [
        "Credit Utilization Rate"
      ],
      "metadata": {
        "id": "PR4EMFdnAc7e"
      }
    },
    {
      "cell_type": "code",
      "source": [
        "dataset['credit_utilization'] = dataset['Balance'] / (dataset['EstimatedSalary'] + 1)"
      ],
      "metadata": {
        "id": "14VEN49FAZhp"
      },
      "execution_count": 20,
      "outputs": []
    },
    {
      "cell_type": "markdown",
      "source": [
        "Spending Behavior Score"
      ],
      "metadata": {
        "id": "lhLeKzudAl7F"
      }
    },
    {
      "cell_type": "code",
      "source": [
        "dataset['spending_behavior'] = dataset['InGamePurchases'] / (dataset['Monthly_Bill'] + 1)"
      ],
      "metadata": {
        "id": "ZUMma-tnAmsy"
      },
      "execution_count": 21,
      "outputs": []
    },
    {
      "cell_type": "markdown",
      "source": [
        "Game Engagement Index"
      ],
      "metadata": {
        "id": "DM7mOxvwAr66"
      }
    },
    {
      "cell_type": "code",
      "source": [
        "dataset['game_engagement_index'] = dataset['PlayTimeHours'] + dataset['SessionsPerWeek'] + dataset['AchievementsUnlocked']"
      ],
      "metadata": {
        "id": "kUOcITbXAumU"
      },
      "execution_count": 22,
      "outputs": []
    },
    {
      "cell_type": "markdown",
      "source": [
        "**Aggregated Features**"
      ],
      "metadata": {
        "id": "0TdUd2ywA4XM"
      }
    },
    {
      "cell_type": "markdown",
      "source": [
        "Churn Rate per Game Genre"
      ],
      "metadata": {
        "id": "qAhuNv00A-VO"
      }
    },
    {
      "cell_type": "code",
      "source": [
        "dataset['game_genre_churn_rate'] = dataset.groupby('GameGenre', observed=False)['Churn'].transform('mean')"
      ],
      "metadata": {
        "id": "lxiBYkN6A73q"
      },
      "execution_count": 23,
      "outputs": []
    },
    {
      "cell_type": "markdown",
      "source": [
        "Churn Rate per Engagement Level"
      ],
      "metadata": {
        "id": "W9arNaiMBpgS"
      }
    },
    {
      "cell_type": "code",
      "source": [
        "dataset['engagement_churn_rate'] = dataset.groupby('EngagementLevel', observed=False)['Churn'].transform('mean')"
      ],
      "metadata": {
        "id": "0yG_5XY3Brcg"
      },
      "execution_count": 24,
      "outputs": []
    },
    {
      "cell_type": "markdown",
      "source": [
        "**Verification**"
      ],
      "metadata": {
        "id": "NZ_hI0ViC0Ic"
      }
    },
    {
      "cell_type": "code",
      "source": [
        "print(dataset.head())  # Check new features\n",
        "dataset.to_csv(\"enhanced_churn_dataset.csv\", index=False)  # Save processed dataset"
      ],
      "metadata": {
        "id": "Xd5sQ_rEB83u",
        "outputId": "63eb6cbb-50a8-4446-d80e-ff8625e19c86",
        "colab": {
          "base_uri": "https://localhost:8080/"
        }
      },
      "execution_count": 25,
      "outputs": [
        {
          "output_type": "stream",
          "name": "stdout",
          "text": [
            "   CustomerID  CreditScore    Balance  NumOfProducts  HasCrCard  \\\n",
            "0    15634602        619.0       0.00            1.0        1.0   \n",
            "1    15647311        608.0   83807.86            1.0        0.0   \n",
            "2    15619304        502.0  159660.80            3.0        1.0   \n",
            "3    15701354        699.0       0.00            2.0        0.0   \n",
            "4    15737888        850.0  125510.82            1.0        1.0   \n",
            "\n",
            "   IsActiveMember  EstimatedSalary  Exited GameGenre  PlayTimeHours  ...  \\\n",
            "0             1.0        101348.88     1.0    Sports      12.024365  ...   \n",
            "1             1.0        112542.58     0.0    Sports      12.024365  ...   \n",
            "2             0.0        113931.57     1.0    Sports      12.024365  ...   \n",
            "3             0.0         93826.63     0.0    Sports      12.024365  ...   \n",
            "4             1.0         79084.10     0.0    Sports      12.024365  ...   \n",
            "\n",
            "   avg_usage_per_month avg_bill_per_product  gaming_engagement_score  \\\n",
            "0            21.968891            32.526598               294.915327   \n",
            "1            21.968891            32.526598               294.915327   \n",
            "2            21.968891            16.263299               294.915327   \n",
            "3            21.968891            21.684399               294.915327   \n",
            "4            21.968891            32.526598               294.915327   \n",
            "\n",
            "   avg_session_length_per_week  activity_score  credit_utilization  \\\n",
            "0                   897.850783        9.471774            0.000000   \n",
            "1                   897.850783        9.471774            0.744670   \n",
            "2                   897.850783        0.000000            1.401362   \n",
            "3                   897.850783        0.000000            0.000000   \n",
            "4                   897.850783        9.471774            1.587035   \n",
            "\n",
            "  spending_behavior  game_engagement_index  game_genre_churn_rate  \\\n",
            "0          0.003041              46.022617               0.497192   \n",
            "1          0.003041              46.022617               0.497192   \n",
            "2          0.003041              46.022617               0.497192   \n",
            "3          0.003041              46.022617               0.497192   \n",
            "4          0.003041              46.022617               0.497192   \n",
            "\n",
            "   engagement_churn_rate  \n",
            "0               0.497951  \n",
            "1               0.497951  \n",
            "2               0.497951  \n",
            "3               0.497951  \n",
            "4               0.497951  \n",
            "\n",
            "[5 rows x 34 columns]\n"
          ]
        }
      ]
    },
    {
      "cell_type": "code",
      "source": [
        "print(dataset.dtypes)"
      ],
      "metadata": {
        "id": "dYHDftbyDU7o",
        "outputId": "e31cd9a8-9286-470b-af12-ad2bd608b44c",
        "colab": {
          "base_uri": "https://localhost:8080/"
        }
      },
      "execution_count": 26,
      "outputs": [
        {
          "output_type": "stream",
          "name": "stdout",
          "text": [
            "CustomerID                        int64\n",
            "CreditScore                     float64\n",
            "Balance                         float64\n",
            "NumOfProducts                   float64\n",
            "HasCrCard                       float64\n",
            "IsActiveMember                  float64\n",
            "EstimatedSalary                 float64\n",
            "Exited                          float64\n",
            "GameGenre                      category\n",
            "PlayTimeHours                   float64\n",
            "InGamePurchases                 float64\n",
            "GameDifficulty                 category\n",
            "SessionsPerWeek                 float64\n",
            "AvgSessionDurationMinutes       float64\n",
            "PlayerLevel                     float64\n",
            "AchievementsUnlocked            float64\n",
            "EngagementLevel                category\n",
            "Subscription_Length_Months      float64\n",
            "Monthly_Bill                    float64\n",
            "Total_Usage_GB                  float64\n",
            "Churn                           float64\n",
            "tenure_years                    float64\n",
            "playtime_per_session            float64\n",
            "spending_per_hour               float64\n",
            "avg_usage_per_month             float64\n",
            "avg_bill_per_product            float64\n",
            "gaming_engagement_score         float64\n",
            "avg_session_length_per_week     float64\n",
            "activity_score                  float64\n",
            "credit_utilization              float64\n",
            "spending_behavior               float64\n",
            "game_engagement_index           float64\n",
            "game_genre_churn_rate           float64\n",
            "engagement_churn_rate           float64\n",
            "dtype: object\n"
          ]
        }
      ]
    },
    {
      "cell_type": "markdown",
      "source": [
        "Lable Encoding"
      ],
      "metadata": {
        "id": "nTMLntUIJv4C"
      }
    },
    {
      "cell_type": "code",
      "source": [
        "from sklearn.preprocessing import LabelEncoder\n",
        "\n",
        "categorical_cols = ['GameGenre', 'GameDifficulty', 'EngagementLevel']\n",
        "for col in categorical_cols:\n",
        "    dataset[col] = dataset[col].astype('category')\n",
        "\n",
        "label_encoders = {}  # Store encoders for inverse transformation\n",
        "ordinal_cols = ['GameDifficulty', 'EngagementLevel']\n",
        "\n",
        "for col in ordinal_cols:\n",
        "    le = LabelEncoder()\n",
        "    dataset[col] = le.fit_transform(dataset[col])\n",
        "    label_encoders[col] = le\n",
        "\n",
        "dataset = pd.get_dummies(dataset, columns=['GameGenre'], drop_first=True)"
      ],
      "metadata": {
        "id": "JQ6Sr1EBE01G"
      },
      "execution_count": 27,
      "outputs": []
    },
    {
      "cell_type": "code",
      "source": [
        "print(dataset.info())  # Verify new columns\n",
        "print(dataset.head())  # View transformed data"
      ],
      "metadata": {
        "id": "ycQLb-OdFMFj",
        "outputId": "cc34ec2a-e0fc-4082-8d92-1848c36a4fd4",
        "colab": {
          "base_uri": "https://localhost:8080/"
        }
      },
      "execution_count": 28,
      "outputs": [
        {
          "output_type": "stream",
          "name": "stdout",
          "text": [
            "<class 'pandas.core.frame.DataFrame'>\n",
            "RangeIndex: 110000 entries, 0 to 109999\n",
            "Data columns (total 37 columns):\n",
            " #   Column                       Non-Null Count   Dtype  \n",
            "---  ------                       --------------   -----  \n",
            " 0   CustomerID                   110000 non-null  int64  \n",
            " 1   CreditScore                  110000 non-null  float64\n",
            " 2   Balance                      110000 non-null  float64\n",
            " 3   NumOfProducts                110000 non-null  float64\n",
            " 4   HasCrCard                    110000 non-null  float64\n",
            " 5   IsActiveMember               110000 non-null  float64\n",
            " 6   EstimatedSalary              110000 non-null  float64\n",
            " 7   Exited                       110000 non-null  float64\n",
            " 8   PlayTimeHours                110000 non-null  float64\n",
            " 9   InGamePurchases              110000 non-null  float64\n",
            " 10  GameDifficulty               110000 non-null  int64  \n",
            " 11  SessionsPerWeek              110000 non-null  float64\n",
            " 12  AvgSessionDurationMinutes    110000 non-null  float64\n",
            " 13  PlayerLevel                  110000 non-null  float64\n",
            " 14  AchievementsUnlocked         110000 non-null  float64\n",
            " 15  EngagementLevel              110000 non-null  int64  \n",
            " 16  Subscription_Length_Months   110000 non-null  float64\n",
            " 17  Monthly_Bill                 110000 non-null  float64\n",
            " 18  Total_Usage_GB               110000 non-null  float64\n",
            " 19  Churn                        110000 non-null  float64\n",
            " 20  tenure_years                 110000 non-null  float64\n",
            " 21  playtime_per_session         110000 non-null  float64\n",
            " 22  spending_per_hour            110000 non-null  float64\n",
            " 23  avg_usage_per_month          110000 non-null  float64\n",
            " 24  avg_bill_per_product         110000 non-null  float64\n",
            " 25  gaming_engagement_score      110000 non-null  float64\n",
            " 26  avg_session_length_per_week  110000 non-null  float64\n",
            " 27  activity_score               110000 non-null  float64\n",
            " 28  credit_utilization           110000 non-null  float64\n",
            " 29  spending_behavior            110000 non-null  float64\n",
            " 30  game_engagement_index        110000 non-null  float64\n",
            " 31  game_genre_churn_rate        110000 non-null  float64\n",
            " 32  engagement_churn_rate        110000 non-null  float64\n",
            " 33  GameGenre_RPG                110000 non-null  bool   \n",
            " 34  GameGenre_Simulation         110000 non-null  bool   \n",
            " 35  GameGenre_Sports             110000 non-null  bool   \n",
            " 36  GameGenre_Strategy           110000 non-null  bool   \n",
            "dtypes: bool(4), float64(30), int64(3)\n",
            "memory usage: 28.1 MB\n",
            "None\n",
            "   CustomerID  CreditScore    Balance  NumOfProducts  HasCrCard  \\\n",
            "0    15634602        619.0       0.00            1.0        1.0   \n",
            "1    15647311        608.0   83807.86            1.0        0.0   \n",
            "2    15619304        502.0  159660.80            3.0        1.0   \n",
            "3    15701354        699.0       0.00            2.0        0.0   \n",
            "4    15737888        850.0  125510.82            1.0        1.0   \n",
            "\n",
            "   IsActiveMember  EstimatedSalary  Exited  PlayTimeHours  InGamePurchases  \\\n",
            "0             1.0        101348.88     1.0      12.024365         0.200854   \n",
            "1             1.0        112542.58     0.0      12.024365         0.200854   \n",
            "2             0.0        113931.57     1.0      12.024365         0.200854   \n",
            "3             0.0         93826.63     0.0      12.024365         0.200854   \n",
            "4             1.0         79084.10     0.0      12.024365         0.200854   \n",
            "\n",
            "   ...  activity_score  credit_utilization  spending_behavior  \\\n",
            "0  ...        9.471774            0.000000           0.003041   \n",
            "1  ...        9.471774            0.744670           0.003041   \n",
            "2  ...        0.000000            1.401362           0.003041   \n",
            "3  ...        0.000000            0.000000           0.003041   \n",
            "4  ...        9.471774            1.587035           0.003041   \n",
            "\n",
            "   game_engagement_index  game_genre_churn_rate  engagement_churn_rate  \\\n",
            "0              46.022617               0.497192               0.497951   \n",
            "1              46.022617               0.497192               0.497951   \n",
            "2              46.022617               0.497192               0.497951   \n",
            "3              46.022617               0.497192               0.497951   \n",
            "4              46.022617               0.497192               0.497951   \n",
            "\n",
            "   GameGenre_RPG  GameGenre_Simulation  GameGenre_Sports  GameGenre_Strategy  \n",
            "0          False                 False              True               False  \n",
            "1          False                 False              True               False  \n",
            "2          False                 False              True               False  \n",
            "3          False                 False              True               False  \n",
            "4          False                 False              True               False  \n",
            "\n",
            "[5 rows x 37 columns]\n"
          ]
        }
      ]
    },
    {
      "cell_type": "markdown",
      "source": [
        "# Feature Scaling"
      ],
      "metadata": {
        "id": "WluYXhaGIkLX"
      }
    },
    {
      "cell_type": "markdown",
      "source": [
        "Identify Numerical Columns"
      ],
      "metadata": {
        "id": "8HrEFDfqJ9Rq"
      }
    },
    {
      "cell_type": "code",
      "source": [
        "from sklearn.preprocessing import MinMaxScaler, StandardScaler\n",
        "\n",
        "numerical_cols = dataset.select_dtypes(include=['float64', 'int64']).columns.tolist()\n",
        "numerical_cols.remove('Churn')"
      ],
      "metadata": {
        "id": "FevTV_JUHY5W"
      },
      "execution_count": 29,
      "outputs": []
    },
    {
      "cell_type": "markdown",
      "source": [
        "Normalization"
      ],
      "metadata": {
        "id": "TSF7LBU3KDIi"
      }
    },
    {
      "cell_type": "code",
      "source": [
        "scaler = MinMaxScaler()\n",
        "dataset[numerical_cols] = scaler.fit_transform(dataset[numerical_cols])\n",
        "\n",
        "# Check scaled values\n",
        "print(dataset.head())"
      ],
      "metadata": {
        "id": "UKac54hBJNk5",
        "outputId": "1f1cd64d-af66-4ea4-f3d4-243ae1eb81bd",
        "colab": {
          "base_uri": "https://localhost:8080/"
        }
      },
      "execution_count": 30,
      "outputs": [
        {
          "output_type": "stream",
          "name": "stdout",
          "text": [
            "   CustomerID  CreditScore   Balance  NumOfProducts  HasCrCard  \\\n",
            "0    0.988550        0.538  0.000000       0.000000        1.0   \n",
            "1    0.989354        0.516  0.334031       0.000000        0.0   \n",
            "2    0.987583        0.304  0.636357       0.666667        1.0   \n",
            "3    0.992771        0.698  0.000000       0.333333        0.0   \n",
            "4    0.995081        1.000  0.500246       0.000000        1.0   \n",
            "\n",
            "   IsActiveMember  EstimatedSalary  Exited  PlayTimeHours  InGamePurchases  \\\n",
            "0             1.0         0.506735     1.0       0.501021         0.200854   \n",
            "1             1.0         0.562709     0.0       0.501021         0.200854   \n",
            "2             0.0         0.569654     1.0       0.501021         0.200854   \n",
            "3             0.0         0.469120     0.0       0.501021         0.200854   \n",
            "4             1.0         0.395400     0.0       0.501021         0.200854   \n",
            "\n",
            "   ...  activity_score  credit_utilization  spending_behavior  \\\n",
            "0  ...        0.967801            0.000000           0.094295   \n",
            "1  ...        0.967801            0.000076           0.094295   \n",
            "2  ...        0.000000            0.000143           0.094295   \n",
            "3  ...        0.000000            0.000000           0.094295   \n",
            "4  ...        0.967801            0.000162           0.094295   \n",
            "\n",
            "   game_engagement_index  game_genre_churn_rate  engagement_churn_rate  \\\n",
            "0               0.498159                    0.0               0.669611   \n",
            "1               0.498159                    0.0               0.669611   \n",
            "2               0.498159                    0.0               0.669611   \n",
            "3               0.498159                    0.0               0.669611   \n",
            "4               0.498159                    0.0               0.669611   \n",
            "\n",
            "   GameGenre_RPG  GameGenre_Simulation  GameGenre_Sports  GameGenre_Strategy  \n",
            "0          False                 False              True               False  \n",
            "1          False                 False              True               False  \n",
            "2          False                 False              True               False  \n",
            "3          False                 False              True               False  \n",
            "4          False                 False              True               False  \n",
            "\n",
            "[5 rows x 37 columns]\n"
          ]
        }
      ]
    },
    {
      "cell_type": "markdown",
      "source": [
        " Standardization"
      ],
      "metadata": {
        "id": "SDbVpOmWKGrw"
      }
    },
    {
      "cell_type": "code",
      "source": [
        "scaler = StandardScaler()\n",
        "dataset[numerical_cols] = scaler.fit_transform(dataset[numerical_cols])\n",
        "\n",
        "# Check standardized values\n",
        "print(dataset.head())"
      ],
      "metadata": {
        "id": "nP8eQW6XJTXN",
        "outputId": "3c016bdc-1f0e-482e-9d88-0d5e48cc6cd3",
        "colab": {
          "base_uri": "https://localhost:8080/"
        }
      },
      "execution_count": 31,
      "outputs": [
        {
          "output_type": "stream",
          "name": "stdout",
          "text": [
            "   CustomerID  CreditScore   Balance  NumOfProducts  HasCrCard  \\\n",
            "0    3.149652    -1.081954 -4.065677      -3.023380   2.142844   \n",
            "1    3.152479    -1.459434  0.389206      -3.023380  -5.133366   \n",
            "2    3.146250    -5.096970  4.421238       8.381299   2.142844   \n",
            "3    3.164497     1.663356 -4.065677       2.678959  -5.133366   \n",
            "4    3.172622     6.845128  2.605965      -3.023380   2.142844   \n",
            "\n",
            "   IsActiveMember  EstimatedSalary    Exited  PlayTimeHours  InGamePurchases  \\\n",
            "0        3.217930         0.072589  6.557513  -2.890867e-10     1.999495e-10   \n",
            "1        3.217930         0.718161 -1.677465  -2.890867e-10     1.999495e-10   \n",
            "2       -3.418346         0.798268  6.557513  -2.890867e-10     1.999495e-10   \n",
            "3       -3.418346        -0.361240 -1.677465  -2.890867e-10     1.999495e-10   \n",
            "4        3.217930        -1.211483 -1.677465  -2.890867e-10     1.999495e-10   \n",
            "\n",
            "   ...  activity_score  credit_utilization  spending_behavior  \\\n",
            "0  ...        2.005464           -0.034436           -0.07103   \n",
            "1  ...        2.005464           -0.009761           -0.07103   \n",
            "2  ...       -2.130366            0.011999           -0.07103   \n",
            "3  ...       -2.130366           -0.034436           -0.07103   \n",
            "4  ...        2.005464            0.018151           -0.07103   \n",
            "\n",
            "   game_engagement_index  game_genre_churn_rate  engagement_churn_rate  \\\n",
            "0          -2.673321e-10              -0.397912               0.140809   \n",
            "1          -2.673321e-10              -0.397912               0.140809   \n",
            "2          -2.673321e-10              -0.397912               0.140809   \n",
            "3          -2.673321e-10              -0.397912               0.140809   \n",
            "4          -2.673321e-10              -0.397912               0.140809   \n",
            "\n",
            "   GameGenre_RPG  GameGenre_Simulation  GameGenre_Sports  GameGenre_Strategy  \n",
            "0          False                 False              True               False  \n",
            "1          False                 False              True               False  \n",
            "2          False                 False              True               False  \n",
            "3          False                 False              True               False  \n",
            "4          False                 False              True               False  \n",
            "\n",
            "[5 rows x 37 columns]\n"
          ]
        }
      ]
    },
    {
      "cell_type": "code",
      "source": [
        "dataset[['GameGenre_RPG','GameGenre_Simulation', 'GameGenre_Sports', 'GameGenre_Strategy']] = dataset[\n",
        "    ['GameGenre_RPG','GameGenre_Simulation', 'GameGenre_Sports', 'GameGenre_Strategy']\n",
        "].astype(int)\n",
        "\n",
        "print(dataset[['GameGenre_RPG','GameGenre_Simulation', 'GameGenre_Sports', 'GameGenre_Strategy']].head())\n"
      ],
      "metadata": {
        "id": "7Z54DUdJN1Gu",
        "outputId": "4f7de809-1a0c-4f39-fc4d-5453103fe087",
        "colab": {
          "base_uri": "https://localhost:8080/"
        }
      },
      "execution_count": 32,
      "outputs": [
        {
          "output_type": "stream",
          "name": "stdout",
          "text": [
            "   GameGenre_RPG  GameGenre_Simulation  GameGenre_Sports  GameGenre_Strategy\n",
            "0              0                     0                 1                   0\n",
            "1              0                     0                 1                   0\n",
            "2              0                     0                 1                   0\n",
            "3              0                     0                 1                   0\n",
            "4              0                     0                 1                   0\n"
          ]
        }
      ]
    },
    {
      "cell_type": "code",
      "source": [
        "print(dataset.describe())\n",
        "print(dataset.head())\n"
      ],
      "metadata": {
        "id": "Rf1PwuBpORiV",
        "outputId": "a0b2f887-9bcb-441e-d59f-bbc8870c88c0",
        "colab": {
          "base_uri": "https://localhost:8080/"
        }
      },
      "execution_count": 33,
      "outputs": [
        {
          "output_type": "stream",
          "name": "stdout",
          "text": [
            "         CustomerID   CreditScore       Balance  NumOfProducts     HasCrCard  \\\n",
            "count  1.100000e+05  1.100000e+05  1.100000e+05   1.100000e+05  1.100000e+05   \n",
            "mean  -4.134067e-17 -1.627789e-17  3.217251e-16  -5.176512e-16 -2.325413e-18   \n",
            "std    1.000005e+00  1.000005e+00  1.000005e+00   1.000005e+00  1.000005e+00   \n",
            "min   -3.273376e-01 -1.031306e+01 -4.065677e+00  -3.023380e+00 -5.133366e+00   \n",
            "25%   -3.212219e-01  0.000000e+00  9.665092e-12  -4.748151e-16  0.000000e+00   \n",
            "50%   -3.151062e-01  0.000000e+00  9.665092e-12  -4.748151e-16  0.000000e+00   \n",
            "75%   -3.089905e-01  0.000000e+00  9.665092e-12  -4.748151e-16  0.000000e+00   \n",
            "max    3.189925e+00  6.845128e+00  9.271039e+00   1.408364e+01  2.142844e+00   \n",
            "\n",
            "       IsActiveMember  EstimatedSalary        Exited  PlayTimeHours  \\\n",
            "count    1.100000e+05     1.100000e+05  1.100000e+05   1.100000e+05   \n",
            "mean    -1.461679e-15     1.420402e-15 -2.325413e-18  -1.543481e-15   \n",
            "std      1.000005e+00     1.000005e+00  1.000005e+00   1.000005e+00   \n",
            "min     -3.418346e+00    -5.771816e+00 -1.677465e+00  -2.882543e+00   \n",
            "25%     -1.473549e-15     9.961808e-11  0.000000e+00  -2.890867e-10   \n",
            "50%     -1.473549e-15     9.961808e-11  0.000000e+00  -2.890867e-10   \n",
            "75%     -1.473549e-15     9.961808e-11  0.000000e+00  -2.890867e-10   \n",
            "max      3.217930e+00     5.761641e+00  6.557513e+00   2.870791e+00   \n",
            "\n",
            "       InGamePurchases  ...  activity_score  credit_utilization  \\\n",
            "count     1.100000e+05  ...    1.100000e+05        1.100000e+05   \n",
            "mean     -1.623522e-16  ...   -7.553511e-16       -9.463137e-18   \n",
            "std       1.000005e+00  ...    1.000005e+00        1.000005e+00   \n",
            "min      -8.310160e-01  ...   -2.130366e+00       -3.443627e-02   \n",
            "25%      -8.310160e-01  ...   -8.735737e-12       -9.115281e-03   \n",
            "50%       1.999495e-10  ...   -8.735737e-12       -9.115281e-03   \n",
            "75%       1.999495e-10  ...   -8.735737e-12       -9.115281e-03   \n",
            "max       3.306392e+00  ...    2.143063e+00        3.237301e+02   \n",
            "\n",
            "       spending_behavior  game_engagement_index  game_genre_churn_rate  \\\n",
            "count       1.100000e+05           1.100000e+05           1.100000e+05   \n",
            "mean       -4.818772e-17           1.607793e-15           3.720660e-17   \n",
            "std         1.000005e+00           1.000005e+00           1.000005e+00   \n",
            "min        -7.522260e-01          -4.421363e+00          -3.979118e-01   \n",
            "25%        -7.522260e-01          -2.673321e-10          -3.979118e-01   \n",
            "50%        -1.445937e-01          -2.673321e-10          -3.979118e-01   \n",
            "75%         8.645378e-02          -2.673321e-10          -2.261052e-01   \n",
            "max         6.471862e+00           4.454035e+00           3.378060e+00   \n",
            "\n",
            "       engagement_churn_rate  GameGenre_RPG  GameGenre_Simulation  \\\n",
            "count           1.100000e+05  110000.000000         110000.000000   \n",
            "mean           -4.154737e-16       0.072291              0.072573   \n",
            "std             1.000005e+00       0.258970              0.259435   \n",
            "min            -2.813928e+00       0.000000              0.000000   \n",
            "25%             1.408089e-01       0.000000              0.000000   \n",
            "50%             1.408089e-01       0.000000              0.000000   \n",
            "75%             1.408089e-01       0.000000              0.000000   \n",
            "max             1.598692e+00       1.000000              1.000000   \n",
            "\n",
            "       GameGenre_Sports  GameGenre_Strategy  \n",
            "count     110000.000000       110000.000000  \n",
            "mean           0.709218            0.072836  \n",
            "std            0.454125            0.259869  \n",
            "min            0.000000            0.000000  \n",
            "25%            0.000000            0.000000  \n",
            "50%            1.000000            0.000000  \n",
            "75%            1.000000            0.000000  \n",
            "max            1.000000            1.000000  \n",
            "\n",
            "[8 rows x 37 columns]\n",
            "   CustomerID  CreditScore   Balance  NumOfProducts  HasCrCard  \\\n",
            "0    3.149652    -1.081954 -4.065677      -3.023380   2.142844   \n",
            "1    3.152479    -1.459434  0.389206      -3.023380  -5.133366   \n",
            "2    3.146250    -5.096970  4.421238       8.381299   2.142844   \n",
            "3    3.164497     1.663356 -4.065677       2.678959  -5.133366   \n",
            "4    3.172622     6.845128  2.605965      -3.023380   2.142844   \n",
            "\n",
            "   IsActiveMember  EstimatedSalary    Exited  PlayTimeHours  InGamePurchases  \\\n",
            "0        3.217930         0.072589  6.557513  -2.890867e-10     1.999495e-10   \n",
            "1        3.217930         0.718161 -1.677465  -2.890867e-10     1.999495e-10   \n",
            "2       -3.418346         0.798268  6.557513  -2.890867e-10     1.999495e-10   \n",
            "3       -3.418346        -0.361240 -1.677465  -2.890867e-10     1.999495e-10   \n",
            "4        3.217930        -1.211483 -1.677465  -2.890867e-10     1.999495e-10   \n",
            "\n",
            "   ...  activity_score  credit_utilization  spending_behavior  \\\n",
            "0  ...        2.005464           -0.034436           -0.07103   \n",
            "1  ...        2.005464           -0.009761           -0.07103   \n",
            "2  ...       -2.130366            0.011999           -0.07103   \n",
            "3  ...       -2.130366           -0.034436           -0.07103   \n",
            "4  ...        2.005464            0.018151           -0.07103   \n",
            "\n",
            "   game_engagement_index  game_genre_churn_rate  engagement_churn_rate  \\\n",
            "0          -2.673321e-10              -0.397912               0.140809   \n",
            "1          -2.673321e-10              -0.397912               0.140809   \n",
            "2          -2.673321e-10              -0.397912               0.140809   \n",
            "3          -2.673321e-10              -0.397912               0.140809   \n",
            "4          -2.673321e-10              -0.397912               0.140809   \n",
            "\n",
            "   GameGenre_RPG  GameGenre_Simulation  GameGenre_Sports  GameGenre_Strategy  \n",
            "0              0                     0                 1                   0  \n",
            "1              0                     0                 1                   0  \n",
            "2              0                     0                 1                   0  \n",
            "3              0                     0                 1                   0  \n",
            "4              0                     0                 1                   0  \n",
            "\n",
            "[5 rows x 37 columns]\n"
          ]
        }
      ]
    },
    {
      "cell_type": "code",
      "source": [
        "dataset.to_csv(\"new_churn_dataset.csv\", index=False)"
      ],
      "metadata": {
        "id": "2E1R2zGoR3KS"
      },
      "execution_count": 34,
      "outputs": []
    },
    {
      "cell_type": "markdown",
      "source": [
        "# Splitting Of Dataset"
      ],
      "metadata": {
        "id": "zNa52U3aKza7"
      }
    },
    {
      "cell_type": "markdown",
      "source": [
        "Feature and Target"
      ],
      "metadata": {
        "id": "Igqv_BJDLCtv"
      }
    },
    {
      "cell_type": "code",
      "source": [
        "X = dataset.drop(columns=['Churn'])\n",
        "y = dataset['Churn']"
      ],
      "metadata": {
        "id": "sdqHwAY7Kyn1"
      },
      "execution_count": 52,
      "outputs": []
    },
    {
      "cell_type": "markdown",
      "source": [
        "Splitting into training and testing sets"
      ],
      "metadata": {
        "id": "qM5QbuOCLGkK"
      }
    },
    {
      "cell_type": "code",
      "source": [
        "from sklearn.model_selection import train_test_split\n",
        "x_train, x_test, y_train, y_test = train_test_split(x, y, test_size=0.2, random_state=42)"
      ],
      "metadata": {
        "id": "-7rvhk2WLK7-"
      },
      "execution_count": 53,
      "outputs": []
    },
    {
      "cell_type": "code",
      "source": [
        "print(X_train.shape)"
      ],
      "metadata": {
        "colab": {
          "base_uri": "https://localhost:8080/"
        },
        "id": "kzxgmtuiMuKw",
        "outputId": "d71c980d-f180-4ffb-8842-0914159457dd"
      },
      "execution_count": 42,
      "outputs": [
        {
          "output_type": "stream",
          "name": "stdout",
          "text": [
            "(88000, 36)\n"
          ]
        }
      ]
    },
    {
      "cell_type": "code",
      "source": [
        "print(y_train.shape)"
      ],
      "metadata": {
        "colab": {
          "base_uri": "https://localhost:8080/"
        },
        "id": "zZFYP5jQM6E_",
        "outputId": "1b42fadc-44ee-4fc2-87b9-8aae134f3535"
      },
      "execution_count": 44,
      "outputs": [
        {
          "output_type": "stream",
          "name": "stdout",
          "text": [
            "(88000,)\n"
          ]
        }
      ]
    },
    {
      "cell_type": "code",
      "source": [
        "print(X_test.shape)"
      ],
      "metadata": {
        "colab": {
          "base_uri": "https://localhost:8080/"
        },
        "id": "ug_SNvQ2M8-9",
        "outputId": "e5bd2624-c922-4a16-c2aa-e5e222975ece"
      },
      "execution_count": 46,
      "outputs": [
        {
          "output_type": "stream",
          "name": "stdout",
          "text": [
            "(22000, 36)\n"
          ]
        }
      ]
    },
    {
      "cell_type": "code",
      "source": [
        "print(y_test.shape)"
      ],
      "metadata": {
        "colab": {
          "base_uri": "https://localhost:8080/"
        },
        "id": "c5ZtsDYkNBMD",
        "outputId": "f4365802-a367-4fbc-d2e8-4f043accfed1"
      },
      "execution_count": 47,
      "outputs": [
        {
          "output_type": "stream",
          "name": "stdout",
          "text": [
            "(22000,)\n"
          ]
        }
      ]
    }
  ],
  "metadata": {
    "colab": {
      "provenance": []
    },
    "kernelspec": {
      "display_name": "Python 3",
      "name": "python3"
    }
  },
  "nbformat": 4,
  "nbformat_minor": 0
}